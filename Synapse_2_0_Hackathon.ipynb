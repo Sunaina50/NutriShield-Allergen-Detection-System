{
  "nbformat": 4,
  "nbformat_minor": 0,
  "metadata": {
    "colab": {
      "provenance": [],
      "authorship_tag": "ABX9TyNz0X+q+cBROHVjTWp1pJCT",
      "include_colab_link": true
    },
    "kernelspec": {
      "name": "python3",
      "display_name": "Python 3"
    },
    "language_info": {
      "name": "python"
    }
  },
  "cells": [
    {
      "cell_type": "markdown",
      "metadata": {
        "id": "view-in-github",
        "colab_type": "text"
      },
      "source": [
        "<a href=\"https://colab.research.google.com/github/Sunaina50/NutriShield-Allergen-Detection-System/blob/main/Synapse_2_0_Hackathon.ipynb\" target=\"_parent\"><img src=\"https://colab.research.google.com/assets/colab-badge.svg\" alt=\"Open In Colab\"/></a>"
      ]
    },
    {
      "cell_type": "code",
      "execution_count": 1,
      "metadata": {
        "colab": {
          "base_uri": "https://localhost:8080/"
        },
        "id": "rTM_ItJlh8ll",
        "outputId": "ce638c6b-b2a1-4e95-c218-6c6cd725eb1a"
      },
      "outputs": [
        {
          "output_type": "stream",
          "name": "stdout",
          "text": [
            "Collecting gradio\n",
            "  Downloading gradio-5.21.0-py3-none-any.whl.metadata (16 kB)\n",
            "Collecting aiofiles<24.0,>=22.0 (from gradio)\n",
            "  Downloading aiofiles-23.2.1-py3-none-any.whl.metadata (9.7 kB)\n",
            "Requirement already satisfied: anyio<5.0,>=3.0 in /usr/local/lib/python3.11/dist-packages (from gradio) (3.7.1)\n",
            "Collecting fastapi<1.0,>=0.115.2 (from gradio)\n",
            "  Downloading fastapi-0.115.11-py3-none-any.whl.metadata (27 kB)\n",
            "Collecting ffmpy (from gradio)\n",
            "  Downloading ffmpy-0.5.0-py3-none-any.whl.metadata (3.0 kB)\n",
            "Collecting gradio-client==1.7.2 (from gradio)\n",
            "  Downloading gradio_client-1.7.2-py3-none-any.whl.metadata (7.1 kB)\n",
            "Collecting groovy~=0.1 (from gradio)\n",
            "  Downloading groovy-0.1.2-py3-none-any.whl.metadata (6.1 kB)\n",
            "Requirement already satisfied: httpx>=0.24.1 in /usr/local/lib/python3.11/dist-packages (from gradio) (0.28.1)\n",
            "Requirement already satisfied: huggingface-hub>=0.28.1 in /usr/local/lib/python3.11/dist-packages (from gradio) (0.28.1)\n",
            "Requirement already satisfied: jinja2<4.0 in /usr/local/lib/python3.11/dist-packages (from gradio) (3.1.5)\n",
            "Collecting markupsafe~=2.0 (from gradio)\n",
            "  Downloading MarkupSafe-2.1.5-cp311-cp311-manylinux_2_17_x86_64.manylinux2014_x86_64.whl.metadata (3.0 kB)\n",
            "Requirement already satisfied: numpy<3.0,>=1.0 in /usr/local/lib/python3.11/dist-packages (from gradio) (1.26.4)\n",
            "Requirement already satisfied: orjson~=3.0 in /usr/local/lib/python3.11/dist-packages (from gradio) (3.10.15)\n",
            "Requirement already satisfied: packaging in /usr/local/lib/python3.11/dist-packages (from gradio) (24.2)\n",
            "Requirement already satisfied: pandas<3.0,>=1.0 in /usr/local/lib/python3.11/dist-packages (from gradio) (2.2.2)\n",
            "Requirement already satisfied: pillow<12.0,>=8.0 in /usr/local/lib/python3.11/dist-packages (from gradio) (11.1.0)\n",
            "Requirement already satisfied: pydantic>=2.0 in /usr/local/lib/python3.11/dist-packages (from gradio) (2.10.6)\n",
            "Collecting pydub (from gradio)\n",
            "  Downloading pydub-0.25.1-py2.py3-none-any.whl.metadata (1.4 kB)\n",
            "Collecting python-multipart>=0.0.18 (from gradio)\n",
            "  Downloading python_multipart-0.0.20-py3-none-any.whl.metadata (1.8 kB)\n",
            "Requirement already satisfied: pyyaml<7.0,>=5.0 in /usr/local/lib/python3.11/dist-packages (from gradio) (6.0.2)\n",
            "Collecting ruff>=0.9.3 (from gradio)\n",
            "  Downloading ruff-0.11.0-py3-none-manylinux_2_17_x86_64.manylinux2014_x86_64.whl.metadata (25 kB)\n",
            "Collecting safehttpx<0.2.0,>=0.1.6 (from gradio)\n",
            "  Downloading safehttpx-0.1.6-py3-none-any.whl.metadata (4.2 kB)\n",
            "Collecting semantic-version~=2.0 (from gradio)\n",
            "  Downloading semantic_version-2.10.0-py2.py3-none-any.whl.metadata (9.7 kB)\n",
            "Collecting starlette<1.0,>=0.40.0 (from gradio)\n",
            "  Downloading starlette-0.46.1-py3-none-any.whl.metadata (6.2 kB)\n",
            "Collecting tomlkit<0.14.0,>=0.12.0 (from gradio)\n",
            "  Downloading tomlkit-0.13.2-py3-none-any.whl.metadata (2.7 kB)\n",
            "Requirement already satisfied: typer<1.0,>=0.12 in /usr/local/lib/python3.11/dist-packages (from gradio) (0.15.2)\n",
            "Requirement already satisfied: typing-extensions~=4.0 in /usr/local/lib/python3.11/dist-packages (from gradio) (4.12.2)\n",
            "Collecting uvicorn>=0.14.0 (from gradio)\n",
            "  Downloading uvicorn-0.34.0-py3-none-any.whl.metadata (6.5 kB)\n",
            "Requirement already satisfied: fsspec in /usr/local/lib/python3.11/dist-packages (from gradio-client==1.7.2->gradio) (2024.10.0)\n",
            "Requirement already satisfied: websockets<16.0,>=10.0 in /usr/local/lib/python3.11/dist-packages (from gradio-client==1.7.2->gradio) (14.2)\n",
            "Requirement already satisfied: idna>=2.8 in /usr/local/lib/python3.11/dist-packages (from anyio<5.0,>=3.0->gradio) (3.10)\n",
            "Requirement already satisfied: sniffio>=1.1 in /usr/local/lib/python3.11/dist-packages (from anyio<5.0,>=3.0->gradio) (1.3.1)\n",
            "Requirement already satisfied: certifi in /usr/local/lib/python3.11/dist-packages (from httpx>=0.24.1->gradio) (2025.1.31)\n",
            "Requirement already satisfied: httpcore==1.* in /usr/local/lib/python3.11/dist-packages (from httpx>=0.24.1->gradio) (1.0.7)\n",
            "Requirement already satisfied: h11<0.15,>=0.13 in /usr/local/lib/python3.11/dist-packages (from httpcore==1.*->httpx>=0.24.1->gradio) (0.14.0)\n",
            "Requirement already satisfied: filelock in /usr/local/lib/python3.11/dist-packages (from huggingface-hub>=0.28.1->gradio) (3.17.0)\n",
            "Requirement already satisfied: requests in /usr/local/lib/python3.11/dist-packages (from huggingface-hub>=0.28.1->gradio) (2.32.3)\n",
            "Requirement already satisfied: tqdm>=4.42.1 in /usr/local/lib/python3.11/dist-packages (from huggingface-hub>=0.28.1->gradio) (4.67.1)\n",
            "Requirement already satisfied: python-dateutil>=2.8.2 in /usr/local/lib/python3.11/dist-packages (from pandas<3.0,>=1.0->gradio) (2.8.2)\n",
            "Requirement already satisfied: pytz>=2020.1 in /usr/local/lib/python3.11/dist-packages (from pandas<3.0,>=1.0->gradio) (2025.1)\n",
            "Requirement already satisfied: tzdata>=2022.7 in /usr/local/lib/python3.11/dist-packages (from pandas<3.0,>=1.0->gradio) (2025.1)\n",
            "Requirement already satisfied: annotated-types>=0.6.0 in /usr/local/lib/python3.11/dist-packages (from pydantic>=2.0->gradio) (0.7.0)\n",
            "Requirement already satisfied: pydantic-core==2.27.2 in /usr/local/lib/python3.11/dist-packages (from pydantic>=2.0->gradio) (2.27.2)\n",
            "Requirement already satisfied: click>=8.0.0 in /usr/local/lib/python3.11/dist-packages (from typer<1.0,>=0.12->gradio) (8.1.8)\n",
            "Requirement already satisfied: shellingham>=1.3.0 in /usr/local/lib/python3.11/dist-packages (from typer<1.0,>=0.12->gradio) (1.5.4)\n",
            "Requirement already satisfied: rich>=10.11.0 in /usr/local/lib/python3.11/dist-packages (from typer<1.0,>=0.12->gradio) (13.9.4)\n",
            "Requirement already satisfied: six>=1.5 in /usr/local/lib/python3.11/dist-packages (from python-dateutil>=2.8.2->pandas<3.0,>=1.0->gradio) (1.17.0)\n",
            "Requirement already satisfied: markdown-it-py>=2.2.0 in /usr/local/lib/python3.11/dist-packages (from rich>=10.11.0->typer<1.0,>=0.12->gradio) (3.0.0)\n",
            "Requirement already satisfied: pygments<3.0.0,>=2.13.0 in /usr/local/lib/python3.11/dist-packages (from rich>=10.11.0->typer<1.0,>=0.12->gradio) (2.18.0)\n",
            "Requirement already satisfied: charset-normalizer<4,>=2 in /usr/local/lib/python3.11/dist-packages (from requests->huggingface-hub>=0.28.1->gradio) (3.4.1)\n",
            "Requirement already satisfied: urllib3<3,>=1.21.1 in /usr/local/lib/python3.11/dist-packages (from requests->huggingface-hub>=0.28.1->gradio) (2.3.0)\n",
            "Requirement already satisfied: mdurl~=0.1 in /usr/local/lib/python3.11/dist-packages (from markdown-it-py>=2.2.0->rich>=10.11.0->typer<1.0,>=0.12->gradio) (0.1.2)\n",
            "Downloading gradio-5.21.0-py3-none-any.whl (46.2 MB)\n",
            "\u001b[2K   \u001b[90m━━━━━━━━━━━━━━━━━━━━━━━━━━━━━━━━━━━━━━━━\u001b[0m \u001b[32m46.2/46.2 MB\u001b[0m \u001b[31m11.5 MB/s\u001b[0m eta \u001b[36m0:00:00\u001b[0m\n",
            "\u001b[?25hDownloading gradio_client-1.7.2-py3-none-any.whl (322 kB)\n",
            "\u001b[2K   \u001b[90m━━━━━━━━━━━━━━━━━━━━━━━━━━━━━━━━━━━━━━━━\u001b[0m \u001b[32m322.1/322.1 kB\u001b[0m \u001b[31m13.5 MB/s\u001b[0m eta \u001b[36m0:00:00\u001b[0m\n",
            "\u001b[?25hDownloading aiofiles-23.2.1-py3-none-any.whl (15 kB)\n",
            "Downloading fastapi-0.115.11-py3-none-any.whl (94 kB)\n",
            "\u001b[2K   \u001b[90m━━━━━━━━━━━━━━━━━━━━━━━━━━━━━━━━━━━━━━━━\u001b[0m \u001b[32m94.9/94.9 kB\u001b[0m \u001b[31m2.1 MB/s\u001b[0m eta \u001b[36m0:00:00\u001b[0m\n",
            "\u001b[?25hDownloading groovy-0.1.2-py3-none-any.whl (14 kB)\n",
            "Downloading MarkupSafe-2.1.5-cp311-cp311-manylinux_2_17_x86_64.manylinux2014_x86_64.whl (28 kB)\n",
            "Downloading python_multipart-0.0.20-py3-none-any.whl (24 kB)\n",
            "Downloading ruff-0.11.0-py3-none-manylinux_2_17_x86_64.manylinux2014_x86_64.whl (11.3 MB)\n",
            "\u001b[2K   \u001b[90m━━━━━━━━━━━━━━━━━━━━━━━━━━━━━━━━━━━━━━━━\u001b[0m \u001b[32m11.3/11.3 MB\u001b[0m \u001b[31m17.8 MB/s\u001b[0m eta \u001b[36m0:00:00\u001b[0m\n",
            "\u001b[?25hDownloading safehttpx-0.1.6-py3-none-any.whl (8.7 kB)\n",
            "Downloading semantic_version-2.10.0-py2.py3-none-any.whl (15 kB)\n",
            "Downloading starlette-0.46.1-py3-none-any.whl (71 kB)\n",
            "\u001b[2K   \u001b[90m━━━━━━━━━━━━━━━━━━━━━━━━━━━━━━━━━━━━━━━━\u001b[0m \u001b[32m72.0/72.0 kB\u001b[0m \u001b[31m4.9 MB/s\u001b[0m eta \u001b[36m0:00:00\u001b[0m\n",
            "\u001b[?25hDownloading tomlkit-0.13.2-py3-none-any.whl (37 kB)\n",
            "Downloading uvicorn-0.34.0-py3-none-any.whl (62 kB)\n",
            "\u001b[2K   \u001b[90m━━━━━━━━━━━━━━━━━━━━━━━━━━━━━━━━━━━━━━━━\u001b[0m \u001b[32m62.3/62.3 kB\u001b[0m \u001b[31m3.6 MB/s\u001b[0m eta \u001b[36m0:00:00\u001b[0m\n",
            "\u001b[?25hDownloading ffmpy-0.5.0-py3-none-any.whl (6.0 kB)\n",
            "Downloading pydub-0.25.1-py2.py3-none-any.whl (32 kB)\n",
            "Installing collected packages: pydub, uvicorn, tomlkit, semantic-version, ruff, python-multipart, markupsafe, groovy, ffmpy, aiofiles, starlette, safehttpx, gradio-client, fastapi, gradio\n",
            "  Attempting uninstall: markupsafe\n",
            "    Found existing installation: MarkupSafe 3.0.2\n",
            "    Uninstalling MarkupSafe-3.0.2:\n",
            "      Successfully uninstalled MarkupSafe-3.0.2\n",
            "Successfully installed aiofiles-23.2.1 fastapi-0.115.11 ffmpy-0.5.0 gradio-5.21.0 gradio-client-1.7.2 groovy-0.1.2 markupsafe-2.1.5 pydub-0.25.1 python-multipart-0.0.20 ruff-0.11.0 safehttpx-0.1.6 semantic-version-2.10.0 starlette-0.46.1 tomlkit-0.13.2 uvicorn-0.34.0\n"
          ]
        }
      ],
      "source": [
        "!pip install gradio\n",
        "import gradio as gr\n",
        "import joblib\n",
        "import pandas as pd\n",
        "from sklearn.feature_extraction.text import TfidfVectorizer\n",
        "from sklearn.naive_bayes import MultinomialNB\n",
        "from sklearn.pipeline import make_pipeline"
      ]
    },
    {
      "cell_type": "code",
      "source": [
        "# Sample training data for symptoms and corresponding allergies\n",
        "training_symptoms = [\n",
        "    \"hives, swelling\", \"shortness of breath\", \"stomach pain\",\n",
        "    \"itching\", \"nausea\", \"rash\", \"vomiting\", \"headache\"\n",
        "]\n",
        "training_labels = [\n",
        "    \"Nut or Seafood Allergy\", \"Severe Allergy (Consult a Doctor)\",\n",
        "    \"Dairy or Gluten Allergy\", \"Egg or Soy Allergy\",\n",
        "    \"Seafood or Dairy Allergy\", \"Gluten or Nut Allergy\",\n",
        "    \"Food Poisoning or Severe Allergy\", \"Preservative or Additive Sensitivity\"\n",
        "]"
      ],
      "metadata": {
        "id": "CIsqCmc_iRBj"
      },
      "execution_count": 2,
      "outputs": []
    },
    {
      "cell_type": "code",
      "source": [
        "# Train ML model\n",
        "vectorizer = TfidfVectorizer()\n",
        "model = make_pipeline(vectorizer, MultinomialNB())\n",
        "model.fit(training_symptoms, training_labels)\n",
        "\n",
        "# Save model\n",
        "joblib.dump(model, \"allergy_predictor.pkl\")\n",
        "\n",
        "# Load trained model\n",
        "def predict_allergy_ml(symptoms):\n",
        "    model = joblib.load(\"allergy_predictor.pkl\")\n",
        "    prediction = model.predict([symptoms])[0]\n",
        "    return prediction\n"
      ],
      "metadata": {
        "id": "2OFBqAcWiQ9b"
      },
      "execution_count": 3,
      "outputs": []
    },
    {
      "cell_type": "code",
      "source": [
        "# Allergen detection\n",
        "def detect_allergens(food_name):\n",
        "    allergen_db = {\n",
        "        \"peanut butter\": \"🔴 High Risk: Contains Peanuts\",\n",
        "        \"milkshake\": \"🔴 High Risk: Contains Milk\",\n",
        "        \"bread\": \"🟠 Moderate Risk: Contains Gluten\",\n",
        "        \"tofu\": \"🟠 Moderate Risk: Contains Soy\",\n",
        "        \"shrimp\": \"🔴 High Risk: Contains Seafood\",\n",
        "        \"omelette\": \"🟠 Moderate Risk: Contains Eggs\",\n",
        "        \"walnuts\": \"🔴 High Risk: Contains Tree Nuts\",\n",
        "        \"pasta\": \"🟢 Low Risk: Contains Carbs, Fiber, and Protein\",\n",
        "        \"lobster\": \"🔴 High Risk: Contains Shellfish\",\n",
        "        \"hummus\": \"🟠 Moderate Risk: Contains Sesame\"\n",
        "    }\n",
        "    return allergen_db.get(food_name.lower(), \"✅ No allergens detected.\") if food_name else \"N/A\"\n",
        "\n"
      ],
      "metadata": {
        "id": "ZPePV3g3iQ6f"
      },
      "execution_count": 4,
      "outputs": []
    },
    {
      "cell_type": "code",
      "source": [
        "# Suggest dietary alternatives\n",
        "def suggest_alternatives(food_name):\n",
        "    alternatives = {\n",
        "        \"peanut butter\": \"🌻 Sunflower seed butter, Pumpkin seed butter\",\n",
        "        \"milkshake\": \"🥛 Almond milk, Soy milk, Oat milk\",\n",
        "        \"bread\": \"🍞 Rice flour bread, Corn tortillas, Quinoa bread\",\n",
        "        \"tofu\": \"🌰 Coconut aminos, Pea protein, Chickpea flour\",\n",
        "        \"shrimp\": \"🍗 Chicken, Tofu, Mushrooms\",\n",
        "        \"omelette\": \"🥚 Chia seeds, Flax seeds, Banana puree\",\n",
        "        \"walnuts\": \"🌻 Pumpkin seeds, Sunflower seeds, Hemp seeds\",\n",
        "        \"pasta\": \"🍝 Rice noodles, Quinoa pasta, Lentil pasta\",\n",
        "        \"lobster\": \"🍄 Mushrooms, Chicken, Plant-based seafood alternatives\",\n",
        "        \"hummus\": \"🥄 Chia seeds, Flaxseeds, Sunflower seeds\"\n",
        "    }\n",
        "    return alternatives.get(food_name.lower(), \"❌ No suitable alternatives found.\") if food_name else \"N/A\"\n"
      ],
      "metadata": {
        "id": "dgJXo6BLiQ3n"
      },
      "execution_count": 5,
      "outputs": []
    },
    {
      "cell_type": "code",
      "source": [
        "# Generate diet report\n",
        "def generate_diet_report(symptoms, food_name=None):\n",
        "    if not symptoms:\n",
        "        return \"⚠ Please provide symptoms to proceed.\"\n",
        "\n",
        "    detected = detect_allergens(food_name) if food_name else \"N/A\"\n",
        "    alternatives = suggest_alternatives(food_name) if food_name else \"N/A\"\n",
        "    predicted_allergy = predict_allergy_ml(symptoms)\n",
        "\n",
        "    report = (\n",
        "        \"📋 **Personalized Diet Report**\\n\"\n",
        "        \"| **Category**             | **Details** |\\n\"\n",
        "        \"|:------------------------|:-------------|\\n\"\n",
        "        f\"| **Predicted Allergy**     | {predicted_allergy} |\\n\"\n",
        "        f\"| **Identified Allergens**  | {detected} |\\n\"\n",
        "        f\"| **Safe Alternatives**     | {alternatives} |\\n\"\n",
        "        \"| **Suggested Meal Plan**   | Fresh vegetables, fruits, lean proteins, whole grains |\\n\"\n",
        "    )\n",
        "\n",
        "    return report\n",
        "\n"
      ],
      "metadata": {
        "id": "iLLQU-SXiQ0g"
      },
      "execution_count": 6,
      "outputs": []
    },
    {
      "cell_type": "code",
      "source": [
        "# Web Interface\n",
        "def web_interface(choice, symptoms, food_name=None):\n",
        "    if not symptoms:\n",
        "        return \"⚠ Symptoms are required for accurate prediction!\"\n",
        "\n",
        "    if choice == \"1️⃣ Check allergens in a food item\":\n",
        "        return detect_allergens(food_name) if food_name else \"⚠ Please provide a food item.\"\n",
        "    elif choice == \"2️⃣ Predict allergy from symptoms using ML\":\n",
        "        return predict_allergy_ml(symptoms)\n",
        "    elif choice == \"3️⃣ Generate personalized diet report\":\n",
        "        return generate_diet_report(symptoms, food_name)\n",
        "    else:\n",
        "        return \"⚠ Invalid choice. Please select a valid option.\""
      ],
      "metadata": {
        "id": "GGCfSvB8iQyJ"
      },
      "execution_count": 7,
      "outputs": []
    },
    {
      "cell_type": "code",
      "source": [
        "# Gradio App Design with Enhanced UI\n",
        "custom_css = \"\"\"\n",
        "    body { background-color: #FFFFFF; color: #000000; font-family: 'Arial', sans-serif; }  /* White Background & Black Text */\n",
        "    h1 { color: #4CAF50; text-align: center; }\n",
        "    h3 { color: #4CAF50; text-align: center; }  /* Centered Heading */\n",
        "    p { text-align: center; color: #000000; }   /* Black Text for Paragraph */\n",
        "    .gradio-button { background-color: #4CAF50; color: #FFFFFF; border: none; }\n",
        "\"\"\"\n",
        "\n",
        "with gr.Blocks(css=custom_css) as app:\n",
        "    gr.HTML(\n",
        "        \"\"\"\n",
        "        <h1>🩺 <b>NutriShield : Allergy Detection System 🌿</b></h1>\n",
        "        <div style=\"text-align: center;\">\n",
        "            <h3>🔎 Detect allergens, suggest alternatives, and predict allergies! 🚀</h3>\n",
        "        </div>\n",
        "        \"\"\",\n",
        "    )\n",
        "\n",
        "    choice_input = gr.Dropdown(\n",
        "        [\"1️⃣ Check allergens in a food item\",\n",
        "         \"2️⃣ Predict allergy from symptoms using ML\",\n",
        "         \"3️⃣ Generate personalized diet report\"],\n",
        "        label=\"🔹 Choose an Option\"\n",
        "    )\n",
        "\n",
        "    with gr.Row():\n",
        "        symptoms_input = gr.Textbox(label=\"🤒 Enter Symptoms\")\n",
        "        food_input = gr.Textbox(label=\"🍽️ Enter Food Name (Optional)\")\n",
        "\n",
        "    result_output = gr.Markdown()\n",
        "    submit_button = gr.Button(\"🩺 Generate Report\", variant=\"primary\")\n",
        "\n",
        "    submit_button.click(web_interface,\n",
        "                        inputs=[choice_input, symptoms_input, food_input],\n",
        "                        outputs=result_output)\n",
        "\n",
        "    gr.Markdown(\n",
        "        \"\"\"\n",
        "        <hr>\n",
        "        <p style=\"text-align: center; font-weight: bold; color: #4CAF50;\">\n",
        "        ❤️ Developed for your health and safety! 🚑\n",
        "        </p>\n",
        "        \"\"\"\n",
        "    )\n",
        "\n",
        "app.launch()"
      ],
      "metadata": {
        "colab": {
          "base_uri": "https://localhost:8080/",
          "height": 653
        },
        "id": "xbW34JFcirDz",
        "outputId": "80b37c8c-a838-4048-fd78-4cb7c8a19eb4"
      },
      "execution_count": 8,
      "outputs": [
        {
          "output_type": "stream",
          "name": "stdout",
          "text": [
            "Running Gradio in a Colab notebook requires sharing enabled. Automatically setting `share=True` (you can turn this off by setting `share=False` in `launch()` explicitly).\n",
            "\n",
            "Colab notebook detected. To show errors in colab notebook, set debug=True in launch()\n",
            "* Running on public URL: https://b1a6df8c086c12e5a0.gradio.live\n",
            "\n",
            "This share link expires in 72 hours. For free permanent hosting and GPU upgrades, run `gradio deploy` from the terminal in the working directory to deploy to Hugging Face Spaces (https://huggingface.co/spaces)\n"
          ]
        },
        {
          "output_type": "display_data",
          "data": {
            "text/plain": [
              "<IPython.core.display.HTML object>"
            ],
            "text/html": [
              "<div><iframe src=\"https://b1a6df8c086c12e5a0.gradio.live\" width=\"100%\" height=\"500\" allow=\"autoplay; camera; microphone; clipboard-read; clipboard-write;\" frameborder=\"0\" allowfullscreen></iframe></div>"
            ]
          },
          "metadata": {}
        },
        {
          "output_type": "execute_result",
          "data": {
            "text/plain": []
          },
          "metadata": {},
          "execution_count": 8
        }
      ]
    }
  ]
}